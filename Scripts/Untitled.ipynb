{
 "cells": [
  {
   "cell_type": "code",
   "execution_count": 1,
   "id": "755cd5aa-f74b-47e6-8a96-31ba37dfc4ce",
   "metadata": {},
   "outputs": [],
   "source": [
    "import numpy as np\n",
    "import pandas as pd"
   ]
  },
  {
   "cell_type": "code",
   "execution_count": 2,
   "id": "d0ef389b-1c36-40ef-8716-9439cc0d9213",
   "metadata": {},
   "outputs": [],
   "source": [
    "def mic_data():\n",
    "    file = 'C:\\\\Users\\\\benja\\\\OneDrive\\\\Documents\\\\School\\\\Spring 2022\\\\Lab\\\\microphone.log'\n",
    "\n",
    "    with open(file, 'r') as f:\n",
    "        content = f.readlines()\n",
    "        d, t = content.pop(0).split()[3:5] # date & time - not sure if useful\n",
    "        data = []\n",
    "        for line in content:\n",
    "            try:\n",
    "                data.append(float(line))\n",
    "            except ValueError:\n",
    "                ...\n",
    "        avg = sum(data) / len(data)\n",
    "        return avg"
   ]
  },
  {
   "cell_type": "code",
   "execution_count": 4,
   "id": "9f439487-5d42-430e-a584-77e7ebf769f4",
   "metadata": {},
   "outputs": [],
   "source": [
    "df = pd.DataFrame(columns=['run', 'ada_volts', 'stack_pos', 'temp_out', 'temp_in']) "
   ]
  },
  {
   "cell_type": "code",
   "execution_count": null,
   "id": "6598bb5d-b66e-4792-9c62-c5e8d8e590fd",
   "metadata": {},
   "outputs": [],
   "source": []
  }
 ],
 "metadata": {
  "kernelspec": {
   "display_name": "Python 3 (ipykernel)",
   "language": "python",
   "name": "python3"
  },
  "language_info": {
   "codemirror_mode": {
    "name": "ipython",
    "version": 3
   },
   "file_extension": ".py",
   "mimetype": "text/x-python",
   "name": "python",
   "nbconvert_exporter": "python",
   "pygments_lexer": "ipython3",
   "version": "3.10.2"
  }
 },
 "nbformat": 4,
 "nbformat_minor": 5
}
