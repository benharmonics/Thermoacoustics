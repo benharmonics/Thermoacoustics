{
 "cells": [
  {
   "cell_type": "markdown",
   "id": "c2c534b2-6d74-44f6-aae1-c4239f771190",
   "metadata": {},
   "source": [
    "# Converting Voltage to Decibels"
   ]
  },
  {
   "cell_type": "code",
   "execution_count": 1,
   "id": "567d6a70-b5a9-4f9b-90bb-c46dc3ea4ce2",
   "metadata": {},
   "outputs": [],
   "source": [
    "import pandas as pd\n",
    "import numpy as np\n",
    "from matplotlib import pyplot as plt\n",
    "from scipy.optimize import curve_fit"
   ]
  },
  {
   "cell_type": "markdown",
   "id": "ea885f70-8cb5-445b-9154-5f453ff7385e",
   "metadata": {},
   "source": [
    "## Taking data"
   ]
  },
  {
   "cell_type": "code",
   "execution_count": 2,
   "id": "506518ce-5cf8-40b0-9fc6-661d35be5448",
   "metadata": {},
   "outputs": [],
   "source": [
    "def mic_data():\n",
    "    file = 'C:\\\\Users\\\\benja\\\\OneDrive\\\\Documents\\\\School\\\\Spring 2022\\\\Lab\\\\microphone.log'\n",
    "\n",
    "    with open(file, 'r') as f:\n",
    "        content = f.readlines()\n",
    "        d, t = content.pop(0).split()[3:5] # date & time - not sure if useful\n",
    "        data = []\n",
    "        for line in content:\n",
    "            try:\n",
    "                data.append(float(line))\n",
    "            except ValueError:\n",
    "                ...\n",
    "        avg = sum(data) / len(data)\n",
    "        return avg"
   ]
  },
  {
   "cell_type": "markdown",
   "id": "20dd0ad7-7324-49b0-8c29-b60cc3b593d8",
   "metadata": {},
   "source": [
    "We ran some tests & took some data; the following code can be used to add a new row to the DataFrame:"
   ]
  },
  {
   "cell_type": "code",
   "execution_count": 3,
   "id": "f94fba02-7243-48b0-a310-74cff7e49948",
   "metadata": {},
   "outputs": [],
   "source": [
    "\"\"\"  ADD DATA  \n",
    "run = 3\n",
    "vol = 65\n",
    "white_db = 80.0\n",
    "black_db = 80.9\n",
    "ada_volts = mic_data()\n",
    "\n",
    "new_data = {'run': [run], 'vol': [vol], 'white_db': [white_db], 'black_db': [black_db], 'ada_volts': [ada_volts]}\n",
    "new_row = pd.DataFrame.from_dict(new_data)\n",
    "df = pd.concat([df, new_row], ignore_index=True)\n",
    "df\n",
    "\"\"\";"
   ]
  },
  {
   "cell_type": "markdown",
   "id": "dca423b8-5bde-4dfb-aa7b-d15f6d87ef90",
   "metadata": {},
   "source": [
    "Saving the DataFrame to a file:"
   ]
  },
  {
   "cell_type": "code",
   "execution_count": 4,
   "id": "7b06ecfc-5af1-497f-a09e-410026878254",
   "metadata": {},
   "outputs": [],
   "source": [
    "# df.to_csv('calibration.csv', index=False)"
   ]
  },
  {
   "cell_type": "markdown",
   "id": "2f0c96c7-3562-446e-b6d0-e75a086218f1",
   "metadata": {},
   "source": [
    "## Using the collected data to find a curve-fitting function"
   ]
  },
  {
   "cell_type": "markdown",
   "id": "da592cb3-3eb1-4065-8245-8754a57ce731",
   "metadata": {},
   "source": [
    "Once we've taken the data, we can load the CSV file we've saved anytime we want. Let's do that now and start fitting the data."
   ]
  },
  {
   "cell_type": "code",
   "execution_count": 5,
   "id": "233fa1d7-86f6-4863-94f4-368b0185df62",
   "metadata": {},
   "outputs": [
    {
     "data": {
      "text/html": [
       "<div>\n",
       "<style scoped>\n",
       "    .dataframe tbody tr th:only-of-type {\n",
       "        vertical-align: middle;\n",
       "    }\n",
       "\n",
       "    .dataframe tbody tr th {\n",
       "        vertical-align: top;\n",
       "    }\n",
       "\n",
       "    .dataframe thead th {\n",
       "        text-align: right;\n",
       "    }\n",
       "</style>\n",
       "<table border=\"1\" class=\"dataframe\">\n",
       "  <thead>\n",
       "    <tr style=\"text-align: right;\">\n",
       "      <th></th>\n",
       "      <th>run</th>\n",
       "      <th>vol</th>\n",
       "      <th>white_db</th>\n",
       "      <th>black_db</th>\n",
       "      <th>ada_volts</th>\n",
       "    </tr>\n",
       "  </thead>\n",
       "  <tbody>\n",
       "    <tr>\n",
       "      <th>0</th>\n",
       "      <td>2</td>\n",
       "      <td>1</td>\n",
       "      <td>73.9</td>\n",
       "      <td>74.8</td>\n",
       "      <td>0.846235</td>\n",
       "    </tr>\n",
       "    <tr>\n",
       "      <th>1</th>\n",
       "      <td>2</td>\n",
       "      <td>2</td>\n",
       "      <td>74.1</td>\n",
       "      <td>75.0</td>\n",
       "      <td>0.845227</td>\n",
       "    </tr>\n",
       "    <tr>\n",
       "      <th>2</th>\n",
       "      <td>2</td>\n",
       "      <td>3</td>\n",
       "      <td>74.3</td>\n",
       "      <td>75.1</td>\n",
       "      <td>0.883657</td>\n",
       "    </tr>\n",
       "    <tr>\n",
       "      <th>3</th>\n",
       "      <td>2</td>\n",
       "      <td>4</td>\n",
       "      <td>74.8</td>\n",
       "      <td>75.6</td>\n",
       "      <td>0.967895</td>\n",
       "    </tr>\n",
       "    <tr>\n",
       "      <th>4</th>\n",
       "      <td>2</td>\n",
       "      <td>5</td>\n",
       "      <td>74.9</td>\n",
       "      <td>75.8</td>\n",
       "      <td>0.944950</td>\n",
       "    </tr>\n",
       "    <tr>\n",
       "      <th>...</th>\n",
       "      <td>...</td>\n",
       "      <td>...</td>\n",
       "      <td>...</td>\n",
       "      <td>...</td>\n",
       "      <td>...</td>\n",
       "    </tr>\n",
       "    <tr>\n",
       "      <th>61</th>\n",
       "      <td>3</td>\n",
       "      <td>61</td>\n",
       "      <td>79.8</td>\n",
       "      <td>80.6</td>\n",
       "      <td>1.515711</td>\n",
       "    </tr>\n",
       "    <tr>\n",
       "      <th>62</th>\n",
       "      <td>3</td>\n",
       "      <td>62</td>\n",
       "      <td>79.9</td>\n",
       "      <td>80.7</td>\n",
       "      <td>1.560625</td>\n",
       "    </tr>\n",
       "    <tr>\n",
       "      <th>63</th>\n",
       "      <td>3</td>\n",
       "      <td>63</td>\n",
       "      <td>79.9</td>\n",
       "      <td>80.8</td>\n",
       "      <td>1.682333</td>\n",
       "    </tr>\n",
       "    <tr>\n",
       "      <th>64</th>\n",
       "      <td>3</td>\n",
       "      <td>64</td>\n",
       "      <td>80.0</td>\n",
       "      <td>80.8</td>\n",
       "      <td>1.683934</td>\n",
       "    </tr>\n",
       "    <tr>\n",
       "      <th>65</th>\n",
       "      <td>3</td>\n",
       "      <td>65</td>\n",
       "      <td>80.0</td>\n",
       "      <td>80.9</td>\n",
       "      <td>1.790845</td>\n",
       "    </tr>\n",
       "  </tbody>\n",
       "</table>\n",
       "<p>66 rows × 5 columns</p>\n",
       "</div>"
      ],
      "text/plain": [
       "    run  vol  white_db  black_db  ada_volts\n",
       "0     2    1      73.9      74.8   0.846235\n",
       "1     2    2      74.1      75.0   0.845227\n",
       "2     2    3      74.3      75.1   0.883657\n",
       "3     2    4      74.8      75.6   0.967895\n",
       "4     2    5      74.9      75.8   0.944950\n",
       "..  ...  ...       ...       ...        ...\n",
       "61    3   61      79.8      80.6   1.515711\n",
       "62    3   62      79.9      80.7   1.560625\n",
       "63    3   63      79.9      80.8   1.682333\n",
       "64    3   64      80.0      80.8   1.683934\n",
       "65    3   65      80.0      80.9   1.790845\n",
       "\n",
       "[66 rows x 5 columns]"
      ]
     },
     "execution_count": 5,
     "metadata": {},
     "output_type": "execute_result"
    }
   ],
   "source": [
    "df = pd.read_csv('calibration.csv')\n",
    "df"
   ]
  },
  {
   "cell_type": "markdown",
   "id": "9d0c2f4e-9ec8-4bed-ad4e-542332b49d8a",
   "metadata": {},
   "source": [
    "The first run had some messed up data where we're not getting a good voltage reading from the Adafruit. It kind of throws off the prediction equation."
   ]
  },
  {
   "cell_type": "code",
   "execution_count": 6,
   "id": "45b15a44-efa7-4a89-afcf-debe1eeff033",
   "metadata": {},
   "outputs": [],
   "source": [
    "df = df[df['run'] == 3]"
   ]
  },
  {
   "cell_type": "code",
   "execution_count": 7,
   "id": "92391296-cea0-417a-a40c-ba564413923e",
   "metadata": {},
   "outputs": [
    {
     "data": {
      "text/plain": [
       "<matplotlib.legend.Legend at 0x1c2fc4ec580>"
      ]
     },
     "execution_count": 7,
     "metadata": {},
     "output_type": "execute_result"
    },
    {
     "data": {
      "image/png": "[encoded data removed]",
      "text/plain": [
       "<Figure size 432x288 with 1 Axes>"
      ]
     },
     "metadata": {
      "needs_background": "light"
     },
     "output_type": "display_data"
    }
   ],
   "source": [
    "plt.plot(df['vol'], df['white_db'], label='Abc Apps Sound Meter')\n",
    "plt.plot(df['vol'], df['black_db'], label='KTW Apps Sound Meter')\n",
    "plt.xlabel('Computer Volume')\n",
    "plt.ylabel('Decibels Reading')\n",
    "plt.title('Sound Meter App Readings vs Computer Volume')\n",
    "plt.legend()"
   ]
  },
  {
   "cell_type": "markdown",
   "id": "ac715e33-430e-48fc-8aee-f3971e1fd014",
   "metadata": {},
   "source": [
    "The relationship we're interested in is finding an equation to go from voltage to decibels:"
   ]
  },
  {
   "cell_type": "code",
   "execution_count": 8,
   "id": "33428950-b292-4589-9e87-1b7fd723816f",
   "metadata": {},
   "outputs": [
    {
     "data": {
      "text/plain": [
       "Text(0.5, 1.0, 'Adafruit Microphone Voltage vs Computer Volume')"
      ]
     },
     "execution_count": 8,
     "metadata": {},
     "output_type": "execute_result"
    },
    {
     "data": {
      "image/png": "[encoded data removed]",
      "text/plain": [
       "<Figure size 432x288 with 1 Axes>"
      ]
     },
     "metadata": {
      "needs_background": "light"
     },
     "output_type": "display_data"
    }
   ],
   "source": [
    "plt.plot(df['vol'], df['ada_volts'])\n",
    "plt.xlabel('Computer Volume')\n",
    "plt.ylabel('Voltage Reading')\n",
    "plt.title('Adafruit Microphone Voltage vs Computer Volume')"
   ]
  },
  {
   "cell_type": "code",
   "execution_count": 9,
   "id": "bc06f5cb-5156-4c34-9b09-071e93192f70",
   "metadata": {},
   "outputs": [
    {
     "data": {
      "text/plain": [
       "<matplotlib.legend.Legend at 0x1c2fc620fa0>"
      ]
     },
     "execution_count": 9,
     "metadata": {},
     "output_type": "execute_result"
    },
    {
     "data": {
      "image/png": "[encoded data removed]",
      "text/plain": [
       "<Figure size 432x288 with 1 Axes>"
      ]
     },
     "metadata": {
      "needs_background": "light"
     },
     "output_type": "display_data"
    }
   ],
   "source": [
    "plt.plot(df['ada_volts'], df['white_db'], label='Abc Apps Sound Meter')\n",
    "plt.plot(df['ada_volts'], df['black_db'], label='KTW Apps Sound Meter')\n",
    "plt.xlabel('V')\n",
    "plt.ylabel('dB')\n",
    "plt.title('Adafruit Voltage vs Sound Meter App readings')\n",
    "plt.legend()"
   ]
  },
  {
   "cell_type": "markdown",
   "id": "2f96d718-d15b-4d86-9344-845c671a8fd9",
   "metadata": {},
   "source": [
    "We kind of expect that we're fitting a logarithmic function trying to find decibels as a function of voltage:"
   ]
  },
  {
   "cell_type": "code",
   "execution_count": 10,
   "id": "d6d72813-9e29-459c-b72e-219d2e5e487d",
   "metadata": {},
   "outputs": [],
   "source": [
    "def f(x, a, b, c):\n",
    "    return a * np.log(b * x) + c"
   ]
  },
  {
   "cell_type": "code",
   "execution_count": 11,
   "id": "2563d781-1271-47ea-9b37-541bc01ec10a",
   "metadata": {},
   "outputs": [
    {
     "name": "stderr",
     "output_type": "stream",
     "text": [
      "C:\\Users\\benja\\AppData\\Local\\Programs\\Python\\Python310\\lib\\site-packages\\pandas\\core\\arraylike.py:397: RuntimeWarning: invalid value encountered in log\n",
      "  result = getattr(ufunc, method)(*inputs, **kwargs)\n"
     ]
    }
   ],
   "source": [
    "avg_db = (df['white_db'] + df['black_db']) / 2\n",
    "popt, pcov = curve_fit(f, df['ada_volts'], avg_db)"
   ]
  },
  {
   "cell_type": "markdown",
   "id": "b37505dd-b668-4d19-8abc-0410068df3c6",
   "metadata": {},
   "source": [
    "The optimal values for our parameters from this data are"
   ]
  },
  {
   "cell_type": "code",
   "execution_count": 12,
   "id": "82e1c6be-92a8-45b9-b66d-355ef0a30156",
   "metadata": {},
   "outputs": [
    {
     "data": {
      "text/plain": [
       "array([11.51489496, 30.38881552, 37.51537308])"
      ]
     },
     "execution_count": 12,
     "metadata": {},
     "output_type": "execute_result"
    }
   ],
   "source": [
    "popt"
   ]
  },
  {
   "cell_type": "markdown",
   "id": "35f6a1c8-dfaa-4073-99dd-56ff1cf92636",
   "metadata": {},
   "source": [
    "If you're interested, the covariances for our parameters are"
   ]
  },
  {
   "cell_type": "code",
   "execution_count": 13,
   "id": "f852b4fd-3595-42a6-ad1b-d6bf47b098be",
   "metadata": {},
   "outputs": [
    {
     "data": {
      "text/plain": [
       "array([[ 4.57220848e-01, -2.34573178e+06,  8.88840499e+05],\n",
       "       [-2.34573183e+06,  3.67467740e+14, -1.39240442e+14],\n",
       "       [ 8.88840520e+05, -1.39240442e+14,  5.27608240e+13]])"
      ]
     },
     "execution_count": 13,
     "metadata": {},
     "output_type": "execute_result"
    }
   ],
   "source": [
    "pcov"
   ]
  },
  {
   "cell_type": "markdown",
   "id": "65732cc3-3b36-4ffb-a1b9-1852b0edc543",
   "metadata": {},
   "source": [
    "Honestly? I'm not sure it's a good fit."
   ]
  },
  {
   "cell_type": "code",
   "execution_count": 14,
   "id": "505394a4-be44-4c85-a806-842dee23af90",
   "metadata": {},
   "outputs": [
    {
     "data": {
      "text/plain": [
       "<matplotlib.legend.Legend at 0x1c2fc6dbe20>"
      ]
     },
     "execution_count": 14,
     "metadata": {},
     "output_type": "execute_result"
    },
    {
     "data": {
      "image/png": "[encoded data removed]",
      "text/plain": [
       "<Figure size 432x288 with 1 Axes>"
      ]
     },
     "metadata": {
      "needs_background": "light"
     },
     "output_type": "display_data"
    }
   ],
   "source": [
    "plt.plot(df['ada_volts'], f(df['ada_volts'], *popt), label='Prediction')\n",
    "plt.plot(df['ada_volts'], df['white_db'], label='Actual (Abc Apps)')\n",
    "plt.plot(df['ada_volts'], df['black_db'], label='Actual (KTW Apps)')\n",
    "plt.plot(df['ada_volts'], avg_db, 'r--', label='Apps\\' average')\n",
    "plt.xlabel('V')\n",
    "plt.ylabel('dB')\n",
    "plt.title('Sound Meter App Readings vs Adafruit Voltage')\n",
    "plt.legend()"
   ]
  },
  {
   "cell_type": "code",
   "execution_count": null,
   "id": "61e279ad-f94d-4077-8a54-45427715fa9a",
   "metadata": {},
   "outputs": [],
   "source": []
  }
 ],
 "metadata": {
  "kernelspec": {
   "display_name": "Python 3 (ipykernel)",
   "language": "python",
   "name": "python3"
  },
  "language_info": {
   "codemirror_mode": {
    "name": "ipython",
    "version": 3
   },
   "file_extension": ".py",
   "mimetype": "text/x-python",
   "name": "python",
   "nbconvert_exporter": "python",
   "pygments_lexer": "ipython3",
   "version": "3.10.2"
  }
 },
 "nbformat": 4,
 "nbformat_minor": 5
}
